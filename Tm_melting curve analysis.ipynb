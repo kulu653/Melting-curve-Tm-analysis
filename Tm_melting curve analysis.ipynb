{
 "cells": [
  {
   "cell_type": "markdown",
   "id": "f4c75304-0894-4b8f-9215-dfcacedbdb87",
   "metadata": {},
   "source": [
    "## Melting curve (Tm) analysis.  \n",
    "\n",
    "### creating the environment, importing necessary packages\n",
    "                    "
   ]
  },
  {
   "cell_type": "markdown",
   "id": "8bdd8d5d-0e65-4657-b92d-8ec1aede7b13",
   "metadata": {},
   "source": [
    "### Import data from 100's of raw data.txt file. Do the QC and remove the artifacts. Make dataframe for ARGs specific Tm's for all the data in the database.\n"
   ]
  },
  {
   "cell_type": "code",
   "execution_count": null,
   "id": "db884a61-2903-49f5-aaa4-eb311ad8c8d8",
   "metadata": {},
   "outputs": [
    {
     "ename": "",
     "evalue": "",
     "output_type": "error",
     "traceback": [
      "\u001b[1;31mRunning cells with '/usr/local/bin/python3' requires the ipykernel package.\n",
      "\u001b[1;31mRun the following command to install 'ipykernel' into the Python environment. \n",
      "\u001b[1;31mCommand: '/usr/local/bin/python3 -m pip install ipykernel -U --user --force-reinstall'"
     ]
    }
   ],
   "source": [
    "import glob\n",
    "import os\n",
    "files_folder = \"/data/**/\"\n",
    "csv_files = glob.glob(os.path.join(files_folder, \"1*.txt\"))\n",
    "all_projects_tm = []\n",
    "for f in csv_files:\n",
    "    df = pd.read_csv(f, delimiter='\\t', names =['Row', 'Column', 'Assay', \"Sample\", \"Conc\", \"Ct\",\"Tm\", \"Efficiency\"], header=None)\n",
    "    path=os.path.dirname(f)\n",
    "    df = df.iloc[1: , :]\n",
    "    df['filename'] = os.path.basename(f)\n",
    "    df['project_number'] = os.path.basename(path)\n",
    "    df['Ct'] = pd.to_numeric(df['Ct'],errors='coerce')\n",
    "    df['Tm'] = pd.to_numeric(df['Tm'],errors='coerce')\n",
    "    df['Efficiency'] = pd.to_numeric(df['Efficiency'],errors='coerce')\n",
    "    df['project_number'] = pd.to_numeric(df['project_number'], errors='coerce')\n",
    "    df['Row'] = pd.to_numeric(df['Row'])\n",
    "    df = pd.DataFrame(df)\n",
    "\n",
    "# drop all Ct NaN values which means no amplification\n",
    "    df.dropna(subset = [\"Ct\"], inplace=True)\n",
    "#Getting first 2 letters of sample name\n",
    "    df['Sample_number'] = df['Sample'].str[:3]\n",
    "   \n",
    "#all ARGs in each text file\n",
    "    All_assay = df['Assay'].unique()\n",
    "    i= 0\n",
    "    while i < len(All_assay):\n",
    "#all samples per ARGs per text file\n",
    "        single_assay = df.loc[df.Assay == All_assay[i], :]\n",
    "        count= single_assay['Sample_number'].value_counts()\n",
    "#QC steps\n",
    "#exlude samples that  have only 1 out of 3 technical replicate working\n",
    "        more_than_1_rep = single_assay[single_assay[\"Sample_number\"].isin(count[count > 1].index)]   \n",
    "#exclude Ct value >= 28\n",
    "        tm_lessthan_28_Ct =  more_than_1_rep[more_than_1_rep[\"Ct\"] < 28]   \n",
    "#dataframe for all tm for samples with more than 1 out of 3 techical replicate working, and Ct values less than 28   \n",
    "        all_projects_tm.append(tm_lessthan_28_Ct)\n",
    "        i=i+1"
   ]
  },
  {
   "cell_type": "markdown",
   "id": "839da18a-786e-453a-8778-d13209204a16",
   "metadata": {},
   "source": [
    "##### Make dataframe for tm of all data in the database."
   ]
  },
  {
   "cell_type": "code",
   "execution_count": null,
   "id": "d4bf4540-dccd-407c-9df1-b89de807f95b",
   "metadata": {},
   "outputs": [
    {
     "ename": "",
     "evalue": "",
     "output_type": "error",
     "traceback": [
      "\u001b[1;31mRunning cells with '/usr/local/bin/python3' requires the ipykernel package.\n",
      "\u001b[1;31mRun the following command to install 'ipykernel' into the Python environment. \n",
      "\u001b[1;31mCommand: '/usr/local/bin/python3 -m pip install ipykernel -U --user --force-reinstall'"
     ]
    }
   ],
   "source": [
    "df_all_projects_tm = pd.concat(all_projects_tm)\n",
    "\n",
    "#Making df of samples only, getting rid of controls which are un-numbered\n",
    "search = \"1\",\"2\", \"3\", \"4\",\"5\", \"6\", \"7\",\"8\", \"9\"\n",
    "df_Ct_tm_of_samples_only  =  df_all_projects_tm [df_all_projects_tm [\"Sample_number\"].str.startswith(search)]"
   ]
  },
  {
   "cell_type": "markdown",
   "id": "2fd54ab3-9b04-445e-a621-51fbb88e56ab",
   "metadata": {},
   "source": [
    "#### Tm analysis for each ARGs for all the projects in the database "
   ]
  },
  {
   "cell_type": "code",
   "execution_count": null,
   "id": "47f2d579-524d-4ef0-b342-4eb41b3d9743",
   "metadata": {},
   "outputs": [],
   "source": [
    "df_all_projects_tm_stat =  df_all_projects_tm.groupby('Assay').agg({'Tm': ['mean', 'median','min', 'max', 'std','count']})\n",
    "\n",
    "#importing gene list\n",
    "df_gene_names= pd.read_excel ('/gene_names.xlsx')\n",
    "df_gene_names.rename(columns = {\"assay\":'Assay'}, inplace = True)\n",
    "\n",
    "\n",
    "#merging count top 50 list with gene names and present in decending order of count\n",
    "df_all_projects_tm_stat_with_gene_name= df_gene_names.merge(df_all_projects_tm_stat, on='Assay')  \n",
    "\n",
    "writer = pd.ExcelWriter('/Tm_analysis.xlsx', engine='xlsxwriter')\n",
    "# Write each dataframe to a different worksheet\n",
    "df_all_projects_tm_stat_with_gene_name.to_excel(writer, index= False)  \n",
    "# Close the Pandas Excel writer and output the Excel file.\n",
    "writer.save()\n"
   ]
  },
  {
   "cell_type": "markdown",
   "id": "9aec2228",
   "metadata": {},
   "source": [
    "### Country specific Top 50 ARGs for each sample type"
   ]
  },
  {
   "cell_type": "code",
   "execution_count": null,
   "id": "764d3e91",
   "metadata": {},
   "outputs": [],
   "source": [
    "#create empty DFs\n",
    "dicts_countries_per_sample_type = {}\n",
    "df_all_assay= {}\n",
    "df_all_assay_with_signal= {}\n",
    "abun_data_most_detected_assay= {}\n",
    "df_abun_data_most_detected_assay= {}\n",
    "df_abun_data_most_detected_assay_with_gene_name= {}\n",
    "df_sample_ID_= {}\n",
    "\n",
    "countries_list = df_samples['country'].unique()\n",
    "sample_list = [df_sampleID_manure, df_sampleID_sediment, df_sampleID_sludge, df_sampleID_soil, df_sampleID_stool, df_sampleID_surface_water, df_sampleID_waste_water, df_sampleID_other ]\n",
    "\n",
    "j= 0\n",
    "while j < len(sample_list):\n",
    "    for i in countries_list:\n",
    "            df = sample_list[j]\n",
    "            dicts_countries_per_sample_type[i] = df.loc[df['country'] == (i)]\n",
    "    \n",
    "#get all assay (genes) for each country using sample_id in abundance dataframe\n",
    "            df_all_assay[i] = df_abun.merge( dicts_countries_per_sample_type[i], on= 'sample_id')\n",
    "#get rid of NULL values of ralative abudances    \n",
    "            df_all_assay_with_signal[i] = df_all_assay[i].dropna(subset=['relative'])\n",
    "#for each assay show general statistic for relative abundance, and show the top 50 according to relative abundance, count means total time gene is assayed equals total samples assayed\n",
    "            df_abun_data_most_detected_assay[i] = df_all_assay_with_signal[i].groupby('assay').agg({'relative': ['mean', 'min', 'max', 'count']}).relative.sort_values(by=['mean'],ascending=False).nlargest(50, 'mean')\n",
    "#merging mean top 50 list with gene names and present in decending order of mean of relative abundance\n",
    "            df_abun_data_most_detected_assay_with_gene_name[i]= df_gene_names.merge(df_abun_data_most_detected_assay[i], on='assay').sort_values(by=['mean'],ascending=False)\n",
    "# Create a Pandas Excel writer using XlsxWriter as the engine.\n",
    "    file_name = df.type[1] + \"- Top 50 most detected genes for each country.xlsx\"\n",
    "    writer = pd.ExcelWriter('Documents/'+ file_name, engine='xlsxwriter')\n",
    "    for i in countries_list:\n",
    "# Write each dataframe to a different worksheet.\n",
    "        df_abun_data_most_detected_assay_with_gene_name[i].to_excel(writer, sheet_name= str(i), index= False)\n",
    "# Close the Pandas Excel writer and output the Excel file.\n",
    "    writer.save()\n",
    "    j=j+1"
   ]
  }
 ],
 "metadata": {
  "kernelspec": {
   "display_name": "Python 3",
   "language": "python",
   "name": "python3"
  },
  "language_info": {
   "codemirror_mode": {
    "name": "ipython",
    "version": 3
   },
   "file_extension": ".py",
   "mimetype": "text/x-python",
   "name": "python",
   "nbconvert_exporter": "python",
   "pygments_lexer": "ipython3",
   "version": "3.7.0"
  }
 },
 "nbformat": 4,
 "nbformat_minor": 5
}
